{
 "cells": [
  {
   "cell_type": "markdown",
   "metadata": {
    "id": "mrTFv5nPClXh"
   },
   "source": [
    "# **Homework**: Data talks club data engineering zoomcamp Data loading workshop\n",
    "\n",
    "Hello folks, let's practice what we learned - Loading data with the best practices of data engineering.\n",
    "\n",
    "Here are the exercises we will do\n",
    "\n",
    "\n"
   ]
  },
  {
   "cell_type": "markdown",
   "metadata": {
    "id": "wLF4iXf-NR7t"
   },
   "source": [
    "# 1. Use a generator\n",
    "\n",
    "Remember the concept of generator? Let's practice using them to futher our understanding of how they work.\n",
    "\n",
    "Let's define a generator and then run it as practice.\n",
    "\n",
    "**Answer the following questions:**\n",
    "\n",
    "- **Question 1: What is the sum of the outputs of the generator for limit = 5?**\n",
    "- **Question 2: What is the 13th number yielded**\n",
    "\n",
    "I suggest practicing these questions without GPT as the purpose is to further your learning."
   ]
  },
  {
   "cell_type": "code",
   "execution_count": 1,
   "metadata": {
    "colab": {
     "base_uri": "https://localhost:8080/"
    },
    "id": "wLng-bDJN4jf",
    "outputId": "547683cb-5f56-4815-a903-d0d9578eb1f9"
   },
   "outputs": [
    {
     "name": "stdout",
     "output_type": "stream",
     "text": [
      "1.0\n",
      "1.4142135623730951\n",
      "1.7320508075688772\n",
      "2.0\n",
      "2.23606797749979\n"
     ]
    }
   ],
   "source": [
    "def square_root_generator(limit):\n",
    "    n = 1\n",
    "    while n <= limit:\n",
    "        yield n ** 0.5\n",
    "        n += 1\n",
    "\n",
    "# Example usage:\n",
    "limit = 5\n",
    "generator = square_root_generator(limit)\n",
    "\n",
    "for sqrt_value in generator:\n",
    "    print(sqrt_value)\n"
   ]
  },
  {
   "cell_type": "markdown",
   "metadata": {
    "id": "vjWhILzGJMpK"
   },
   "source": [
    "# 2. Append a generator to a table with existing data\n",
    "\n",
    "\n",
    "Below you have 2 generators. You will be tasked to load them to duckdb and answer some questions from the data\n",
    "\n",
    "1. Load the first generator and calculate the sum of ages of all people. Make sure to only load it once.\n",
    "2. Append the second generator to the same table as the first.\n",
    "3. **After correctly appending the data, calculate the sum of all ages of people.**\n",
    "\n",
    "\n"
   ]
  },
  {
   "cell_type": "code",
   "execution_count": 2,
   "metadata": {
    "colab": {
     "base_uri": "https://localhost:8080/"
    },
    "id": "2MoaQcdLBEk6",
    "outputId": "d2b93dc1-d83f-44ea-aeff-fdf51d75f7aa"
   },
   "outputs": [
    {
     "name": "stdout",
     "output_type": "stream",
     "text": [
      "{'ID': 1, 'Name': 'Person_1', 'Age': 26, 'City': 'City_A'}\n",
      "{'ID': 2, 'Name': 'Person_2', 'Age': 27, 'City': 'City_A'}\n",
      "{'ID': 3, 'Name': 'Person_3', 'Age': 28, 'City': 'City_A'}\n",
      "{'ID': 4, 'Name': 'Person_4', 'Age': 29, 'City': 'City_A'}\n",
      "{'ID': 5, 'Name': 'Person_5', 'Age': 30, 'City': 'City_A'}\n",
      "{'ID': 3, 'Name': 'Person_3', 'Age': 33, 'City': 'City_B', 'Occupation': 'Job_3'}\n",
      "{'ID': 4, 'Name': 'Person_4', 'Age': 34, 'City': 'City_B', 'Occupation': 'Job_4'}\n",
      "{'ID': 5, 'Name': 'Person_5', 'Age': 35, 'City': 'City_B', 'Occupation': 'Job_5'}\n",
      "{'ID': 6, 'Name': 'Person_6', 'Age': 36, 'City': 'City_B', 'Occupation': 'Job_6'}\n",
      "{'ID': 7, 'Name': 'Person_7', 'Age': 37, 'City': 'City_B', 'Occupation': 'Job_7'}\n",
      "{'ID': 8, 'Name': 'Person_8', 'Age': 38, 'City': 'City_B', 'Occupation': 'Job_8'}\n"
     ]
    }
   ],
   "source": [
    "def people_1():\n",
    "    for i in range(1, 6):\n",
    "        yield {\"ID\": i, \"Name\": f\"Person_{i}\", \"Age\": 25 + i, \"City\": \"City_A\"}\n",
    "\n",
    "for person in people_1():\n",
    "    print(person)\n",
    "\n",
    "\n",
    "def people_2():\n",
    "    for i in range(3, 9):\n",
    "        yield {\"ID\": i, \"Name\": f\"Person_{i}\", \"Age\": 30 + i, \"City\": \"City_B\", \"Occupation\": f\"Job_{i}\"}\n",
    "\n",
    "\n",
    "for person in people_2():\n",
    "    print(person)\n"
   ]
  },
  {
   "cell_type": "markdown",
   "metadata": {},
   "source": [
    "2. Append the second generator to the same table as the first.\n",
    "3. **After correctly appending the data, calculate the sum of all ages of people.**"
   ]
  },
  {
   "cell_type": "markdown",
   "metadata": {
    "id": "pY4cFAWOSwN1"
   },
   "source": [
    "# 3. Merge a generator\n",
    "\n",
    "Re-use the generators from Exercise 2.\n",
    "\n",
    "A table's primary key needs to be created from the start, so load your data to a new table with primary key ID.\n",
    "\n",
    "Load your first generator first, and then load the second one with merge. Since they have overlapping IDs, some of the records from the first load should be replaced by the ones from the second load.\n",
    "\n",
    "After loading, you should have a total of 8 records, and ID 3 should have age 33.\n",
    "\n",
    "Question: **Calculate the sum of ages of all the people loaded as described above.**\n"
   ]
  },
  {
   "cell_type": "markdown",
   "metadata": {
    "id": "kKB2GTB9oVjr"
   },
   "source": [
    "# Solution:"
   ]
  },
  {
   "cell_type": "code",
   "execution_count": null,
   "metadata": {
    "id": "xTVvtyqrfVNq"
   },
   "outputs": [],
   "source": [
    "#Install the dependencies\n",
    "# I used poetry, so run `poetry install`"
   ]
  },
  {
   "cell_type": "markdown",
   "metadata": {},
   "source": [
    "- **Question 1: What is the sum of the outputs of the generator for limit = 5?**"
   ]
  },
  {
   "cell_type": "code",
   "execution_count": 3,
   "metadata": {
    "id": "xbe3q55zN43j"
   },
   "outputs": [
    {
     "data": {
      "text/plain": [
       "8.382"
      ]
     },
     "execution_count": 3,
     "metadata": {},
     "output_type": "execute_result"
    }
   ],
   "source": [
    "round(sum(list(square_root_generator(5))), 3)"
   ]
  },
  {
   "cell_type": "markdown",
   "metadata": {},
   "source": [
    "- **Question 2: What is the 13th number yielded**"
   ]
  },
  {
   "cell_type": "code",
   "execution_count": 4,
   "metadata": {},
   "outputs": [
    {
     "name": "stdout",
     "output_type": "stream",
     "text": [
      "1 1.0\n",
      "2 1.414\n",
      "3 1.732\n",
      "4 2.0\n",
      "5 2.236\n",
      "6 2.449\n",
      "7 2.646\n",
      "8 2.828\n",
      "9 3.0\n",
      "10 3.162\n",
      "11 3.317\n",
      "12 3.464\n",
      "13 3.606\n"
     ]
    }
   ],
   "source": [
    "for i, sqrt_value in enumerate(square_root_generator(13)):\n",
    "    print(i+1, round(sqrt_value, 3))"
   ]
  },
  {
   "cell_type": "markdown",
   "metadata": {},
   "source": [
    "**Question 3 preparation**:"
   ]
  },
  {
   "cell_type": "code",
   "execution_count": 5,
   "metadata": {
    "scrolled": true
   },
   "outputs": [],
   "source": [
    "import dlt\n",
    "import duckdb"
   ]
  },
  {
   "cell_type": "markdown",
   "metadata": {
    "id": "vtdTIm4fvQCN"
   },
   "source": [
    "1. Load the first generator and calculate the sum of ages of all people. Make sure to only load it once."
   ]
  },
  {
   "cell_type": "code",
   "execution_count": 6,
   "metadata": {},
   "outputs": [
    {
     "name": "stdout",
     "output_type": "stream",
     "text": [
      "Pipeline dlt_ipykernel_launcher load step completed in 0.46 seconds\n",
      "1 load package(s) were loaded to destination duckdb and into dataset people\n",
      "The duckdb destination used duckdb:///C:\\Users\\staljaard\\Source\\dtc_de-zoomcamp_2024_homework\\workshops\\dlt\\dlt_ipykernel_launcher.duckdb location to store data\n",
      "Load package 1708012875.0567422 is LOADED and contains no failed jobs\n"
     ]
    }
   ],
   "source": [
    "people_generator_pipeline = dlt.pipeline(\n",
    "    destination='duckdb',\n",
    "    dataset_name='people',\n",
    ")\n",
    "\n",
    "info = people_generator_pipeline.run(\n",
    "    people_1(),\n",
    "    table_name=\"people\",\n",
    "    write_disposition=\"replace\",\n",
    ")\n",
    "print(info)"
   ]
  },
  {
   "cell_type": "code",
   "execution_count": 7,
   "metadata": {},
   "outputs": [
    {
     "name": "stdout",
     "output_type": "stream",
     "text": [
      "Loaded tables: \n"
     ]
    },
    {
     "data": {
      "text/plain": [
       "┌─────────────────────┐\n",
       "│        name         │\n",
       "│       varchar       │\n",
       "├─────────────────────┤\n",
       "│ _dlt_loads          │\n",
       "│ _dlt_pipeline_state │\n",
       "│ _dlt_version        │\n",
       "│ people              │\n",
       "└─────────────────────┘"
      ]
     },
     "metadata": {},
     "output_type": "display_data"
    },
    {
     "name": "stdout",
     "output_type": "stream",
     "text": [
      "\n",
      "\n",
      "\n",
      " people table below:\n"
     ]
    },
    {
     "data": {
      "text/plain": [
       "┌───────┬──────────┬───────┬─────────┬────────────────────┬────────────────┐\n",
       "│  id   │   name   │  age  │  city   │    _dlt_load_id    │    _dlt_id     │\n",
       "│ int64 │ varchar  │ int64 │ varchar │      varchar       │    varchar     │\n",
       "├───────┼──────────┼───────┼─────────┼────────────────────┼────────────────┤\n",
       "│     1 │ Person_1 │    26 │ City_A  │ 1708012875.0567422 │ yDS0TXXEuS/NUA │\n",
       "│     2 │ Person_2 │    27 │ City_A  │ 1708012875.0567422 │ wSjww77iMixTcA │\n",
       "│     3 │ Person_3 │    28 │ City_A  │ 1708012875.0567422 │ E+pziL12T+bCcw │\n",
       "│     4 │ Person_4 │    29 │ City_A  │ 1708012875.0567422 │ QDYW19zShuxr8w │\n",
       "│     5 │ Person_5 │    30 │ City_A  │ 1708012875.0567422 │ 1RikhiTanLGfJg │\n",
       "└───────┴──────────┴───────┴─────────┴────────────────────┴────────────────┘"
      ]
     },
     "metadata": {},
     "output_type": "display_data"
    },
    {
     "name": "stdout",
     "output_type": "stream",
     "text": [
      "\n",
      "\n",
      "\n",
      " Total age:\n",
      "┌──────────┐\n",
      "│ sum(age) │\n",
      "│  int128  │\n",
      "├──────────┤\n",
      "│      140 │\n",
      "└──────────┘\n",
      "\n"
     ]
    }
   ],
   "source": [
    "conn = duckdb.connect(f\"{people_generator_pipeline.pipeline_name}.duckdb\")\n",
    "\n",
    "def display_people(table_name):\n",
    "    conn.sql(f\"SET search_path = '{people_generator_pipeline.dataset_name}'\")\n",
    "    print('Loaded tables: ')\n",
    "    display(conn.sql(\"show tables\"))\n",
    "    \n",
    "    # and the data\n",
    "    \n",
    "    print(\"\\n\\n\\n people table below:\")\n",
    "    \n",
    "    display(conn.sql(f\"SELECT * FROM people.{table_name}\"))\n",
    "    \n",
    "    print(\"\\n\\n\\n Total age:\")\n",
    "    print(conn.sql(f\"SELECT SUM(age) from people.{table_name}\"))\n",
    "\n",
    "display_people(\"people\")"
   ]
  },
  {
   "cell_type": "markdown",
   "metadata": {},
   "source": [
    "**Question 3:**\n",
    "\n",
    "2. Append the second generator to the same table as the first.\n",
    "3. **After correctly appending the data, calculate the sum of all ages of people.**"
   ]
  },
  {
   "cell_type": "code",
   "execution_count": 8,
   "metadata": {},
   "outputs": [
    {
     "name": "stdout",
     "output_type": "stream",
     "text": [
      "Pipeline dlt_ipykernel_launcher load step completed in 0.30 seconds\n",
      "1 load package(s) were loaded to destination duckdb and into dataset people\n",
      "The duckdb destination used duckdb:///C:\\Users\\staljaard\\Source\\dtc_de-zoomcamp_2024_homework\\workshops\\dlt\\dlt_ipykernel_launcher.duckdb location to store data\n",
      "Load package 1708012876.6589866 is LOADED and contains no failed jobs\n",
      "Loaded tables: \n"
     ]
    },
    {
     "data": {
      "text/plain": [
       "┌─────────────────────┐\n",
       "│        name         │\n",
       "│       varchar       │\n",
       "├─────────────────────┤\n",
       "│ _dlt_loads          │\n",
       "│ _dlt_pipeline_state │\n",
       "│ _dlt_version        │\n",
       "│ people              │\n",
       "└─────────────────────┘"
      ]
     },
     "metadata": {},
     "output_type": "display_data"
    },
    {
     "name": "stdout",
     "output_type": "stream",
     "text": [
      "\n",
      "\n",
      "\n",
      " people table below:\n"
     ]
    },
    {
     "data": {
      "text/plain": [
       "┌───────┬──────────┬───────┬─────────┬────────────────────┬────────────────┬────────────┐\n",
       "│  id   │   name   │  age  │  city   │    _dlt_load_id    │    _dlt_id     │ occupation │\n",
       "│ int64 │ varchar  │ int64 │ varchar │      varchar       │    varchar     │  varchar   │\n",
       "├───────┼──────────┼───────┼─────────┼────────────────────┼────────────────┼────────────┤\n",
       "│     1 │ Person_1 │    26 │ City_A  │ 1708012875.0567422 │ yDS0TXXEuS/NUA │ NULL       │\n",
       "│     2 │ Person_2 │    27 │ City_A  │ 1708012875.0567422 │ wSjww77iMixTcA │ NULL       │\n",
       "│     3 │ Person_3 │    28 │ City_A  │ 1708012875.0567422 │ E+pziL12T+bCcw │ NULL       │\n",
       "│     4 │ Person_4 │    29 │ City_A  │ 1708012875.0567422 │ QDYW19zShuxr8w │ NULL       │\n",
       "│     5 │ Person_5 │    30 │ City_A  │ 1708012875.0567422 │ 1RikhiTanLGfJg │ NULL       │\n",
       "│     3 │ Person_3 │    33 │ City_B  │ 1708012876.6589866 │ hS2szRiEjsb2yA │ Job_3      │\n",
       "│     4 │ Person_4 │    34 │ City_B  │ 1708012876.6589866 │ AM7gq5zXENa6BQ │ Job_4      │\n",
       "│     5 │ Person_5 │    35 │ City_B  │ 1708012876.6589866 │ JSj9xX6wjeB5Dg │ Job_5      │\n",
       "│     6 │ Person_6 │    36 │ City_B  │ 1708012876.6589866 │ kj73BjpmNWqoHg │ Job_6      │\n",
       "│     7 │ Person_7 │    37 │ City_B  │ 1708012876.6589866 │ NUHlff/cixw32g │ Job_7      │\n",
       "│     8 │ Person_8 │    38 │ City_B  │ 1708012876.6589866 │ vXENb11LcXLaaw │ Job_8      │\n",
       "├───────┴──────────┴───────┴─────────┴────────────────────┴────────────────┴────────────┤\n",
       "│ 11 rows                                                                     7 columns │\n",
       "└───────────────────────────────────────────────────────────────────────────────────────┘"
      ]
     },
     "metadata": {},
     "output_type": "display_data"
    },
    {
     "name": "stdout",
     "output_type": "stream",
     "text": [
      "\n",
      "\n",
      "\n",
      " Total age:\n",
      "┌──────────┐\n",
      "│ sum(age) │\n",
      "│  int128  │\n",
      "├──────────┤\n",
      "│      353 │\n",
      "└──────────┘\n",
      "\n"
     ]
    }
   ],
   "source": [
    "people_generator_pipeline = dlt.pipeline(\n",
    "    destination='duckdb',\n",
    "    dataset_name='people',\n",
    ")\n",
    "\n",
    "info = people_generator_pipeline.run(\n",
    "    people_2(),\n",
    "    table_name=\"people\",\n",
    "    write_disposition=\"append\",\n",
    ")\n",
    "print(info)\n",
    "\n",
    "display_people(\"people\")\n",
    "conn.close()"
   ]
  },
  {
   "cell_type": "markdown",
   "metadata": {},
   "source": [
    "**Question 4:**\n",
    "**Calculate the sum of ages of all the people loaded in the merged table**\n",
    "\n",
    "After loading, you should have a total of 8 records, and ID 3 should have age 33."
   ]
  },
  {
   "cell_type": "code",
   "execution_count": 9,
   "metadata": {},
   "outputs": [
    {
     "name": "stdout",
     "output_type": "stream",
     "text": [
      "Pipeline dlt_ipykernel_launcher load step completed in 0.44 seconds\n",
      "1 load package(s) were loaded to destination duckdb and into dataset people\n",
      "The duckdb destination used duckdb:///C:\\Users\\staljaard\\Source\\dtc_de-zoomcamp_2024_homework\\workshops\\dlt\\dlt_ipykernel_launcher.duckdb location to store data\n",
      "Load package 1708012879.9603498 is LOADED and contains no failed jobs\n",
      "---\n"
     ]
    }
   ],
   "source": [
    "merged_table = \"people_merged\"\n",
    "\n",
    "people_generator_merged_pipeline = dlt.pipeline(\n",
    "    destination='duckdb',\n",
    "    dataset_name=\"people\",\n",
    ")\n",
    "\n",
    "info = people_generator_merged_pipeline.run(\n",
    "    people_1(),\n",
    "    table_name=merged_table,\n",
    "    primary_key=\"id\",\n",
    "    write_disposition=\"replace\",\n",
    ")\n",
    "print(info)\n",
    "print('---')\n",
    "info = people_generator_merged_pipeline.run(\n",
    "    people_2(),\n",
    "    table_name=merged_table,\n",
    "    primary_key=\"id\",\n",
    "    write_disposition=\"merge\",\n",
    ")"
   ]
  },
  {
   "cell_type": "code",
   "execution_count": 10,
   "metadata": {},
   "outputs": [
    {
     "name": "stdout",
     "output_type": "stream",
     "text": [
      "True\n",
      "True\n",
      "Loaded tables: \n"
     ]
    },
    {
     "data": {
      "text/plain": [
       "┌─────────────────────┐\n",
       "│        name         │\n",
       "│       varchar       │\n",
       "├─────────────────────┤\n",
       "│ _dlt_loads          │\n",
       "│ _dlt_pipeline_state │\n",
       "│ _dlt_version        │\n",
       "│ people              │\n",
       "│ people_merged       │\n",
       "└─────────────────────┘"
      ]
     },
     "metadata": {},
     "output_type": "display_data"
    },
    {
     "name": "stdout",
     "output_type": "stream",
     "text": [
      "\n",
      "\n",
      "\n",
      " people table below:\n"
     ]
    },
    {
     "data": {
      "text/plain": [
       "┌───────┬──────────┬───────┬─────────┬────────────────────┬────────────────┬────────────┐\n",
       "│  id   │   name   │  age  │  city   │    _dlt_load_id    │    _dlt_id     │ occupation │\n",
       "│ int64 │ varchar  │ int64 │ varchar │      varchar       │    varchar     │  varchar   │\n",
       "├───────┼──────────┼───────┼─────────┼────────────────────┼────────────────┼────────────┤\n",
       "│     1 │ Person_1 │    26 │ City_A  │ 1708012879.9603498 │ sqSmFtrmfajoeA │ NULL       │\n",
       "│     2 │ Person_2 │    27 │ City_A  │ 1708012879.9603498 │ 6ElaFL9/V7kpyw │ NULL       │\n",
       "│     8 │ Person_8 │    38 │ City_B  │ 1708012880.9328487 │ sAKJm+Qso3Tyng │ Job_8      │\n",
       "│     5 │ Person_5 │    35 │ City_B  │ 1708012880.9328487 │ grYBKvRC+MysEA │ Job_5      │\n",
       "│     4 │ Person_4 │    34 │ City_B  │ 1708012880.9328487 │ lWV1dS/fFxGbnA │ Job_4      │\n",
       "│     3 │ Person_3 │    33 │ City_B  │ 1708012880.9328487 │ hdTeD9cG94BGGg │ Job_3      │\n",
       "│     6 │ Person_6 │    36 │ City_B  │ 1708012880.9328487 │ /oTTke2l4yOtFg │ Job_6      │\n",
       "│     7 │ Person_7 │    37 │ City_B  │ 1708012880.9328487 │ S49QRXX/sVfzFw │ Job_7      │\n",
       "└───────┴──────────┴───────┴─────────┴────────────────────┴────────────────┴────────────┘"
      ]
     },
     "metadata": {},
     "output_type": "display_data"
    },
    {
     "name": "stdout",
     "output_type": "stream",
     "text": [
      "\n",
      "\n",
      "\n",
      " Total age:\n",
      "┌──────────┐\n",
      "│ sum(age) │\n",
      "│  int128  │\n",
      "├──────────┤\n",
      "│      266 │\n",
      "└──────────┘\n",
      "\n"
     ]
    }
   ],
   "source": [
    "conn = duckdb.connect(f\"{people_generator_merged_pipeline.pipeline_name}.duckdb\")\n",
    "\n",
    "print(conn.sql(f\"SELECT COUNT(*) from people.{merged_table}\").fetchall()[0][0] == 8)\n",
    "print(conn.sql(f\"SELECT age from people.{merged_table} WHERE id = 3\").fetchall()[0][0] == 33)\n",
    "\n",
    "display_people(merged_table)\n",
    "\n",
    "conn.close()"
   ]
  },
  {
   "cell_type": "code",
   "execution_count": 11,
   "metadata": {},
   "outputs": [],
   "source": [
    "conn.close()"
   ]
  },
  {
   "cell_type": "code",
   "execution_count": null,
   "metadata": {},
   "outputs": [],
   "source": []
  }
 ],
 "metadata": {
  "colab": {
   "provenance": []
  },
  "kernelspec": {
   "display_name": "Python 3 (ipykernel)",
   "language": "python",
   "name": "python3"
  },
  "language_info": {
   "codemirror_mode": {
    "name": "ipython",
    "version": 3
   },
   "file_extension": ".py",
   "mimetype": "text/x-python",
   "name": "python",
   "nbconvert_exporter": "python",
   "pygments_lexer": "ipython3",
   "version": "3.11.3"
  }
 },
 "nbformat": 4,
 "nbformat_minor": 4
}
